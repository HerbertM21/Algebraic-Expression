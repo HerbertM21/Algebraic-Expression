{
 "cells": [
  {
   "cell_type": "markdown",
   "metadata": {},
   "source": [
    "### **Especificación: Complejos**\n",
    "#### **Tipo:** ``Complejos``\n",
    "#### **Sintaxis:** \n",
    "- **Crear**: entero, entero -> ``Complejos``\n",
    "- **Real**: Complejos -> ``entero``\n",
    "- **Imaginario**: Complejos -> ``entero``\n",
    "- **Suma**: Complejos, Complejos -> ``Complejos``\n",
    "- **Resta**: Complejos, Complejos -> ``Complejos``\n",
    "- **Multiplicación**: Complejos, Complejos -> ``Complejos``\n",
    "- **Conjugado**: Complejos -> ``Complejos``\n",
    "- **IgualComplejos**: Complejos, Complejos -> ``Booleano``\n",
    "- **ValorAbsoluto**: Complejos -> ``Entero``\n",
    "\n",
    " Definir las especificaciones de las funciones restantes en el lenguaje natural orientado a objetos.\n"
   ]
  },
  {
   "cell_type": "markdown",
   "metadata": {},
   "source": [
    "### **Solución:**"
   ]
  },
  {
   "cell_type": "code",
   "execution_count": 15,
   "metadata": {},
   "outputs": [
    {
     "name": "stdout",
     "output_type": "stream",
     "text": [
      "El primer número complejo es:  10+23i\n",
      "El segundo número complejo es:  56+2i\n",
      "===========================================\n",
      "Suma:  (66, 25)\n",
      "Resta:  (-46, 21)\n",
      "Multiplicación:  (514, 1308)\n",
      "===========================================\n",
      "Comprobación de la suma\n",
      "Se cumple el axioma\n"
     ]
    }
   ],
   "source": [
    "\n",
    "class Complejos:\n",
    "    def __init__(self, R, I): # Constructor\n",
    "        self.R = R  # self.R es el real del objeto que llama al constructor\n",
    "        self.I = I # self.I es el imaginario del objeto que llama al constructor\n",
    "    def real(self) -> int: # Método\n",
    "        return self.R # .R se refiere al real del objeto que llama al método\n",
    "    def imaginario(self) -> int: # Método\n",
    "        return self.I # .I se refiere al imaginario del objeto que llama al método\n",
    "    def suma(self, C): # Método  \n",
    "        R3=self.R+C.R # .R se refiere al real de la suma de C y self (self es el objeto que llama al método)\n",
    "        I3=self.I+C.I # .I se refiere al imaginario de la suma de C y self (self es el objeto que llama al método)\n",
    "        return R3,I3\n",
    "    def resta(self, C): # Método\n",
    "        R3=self.R-C.R # R3 es el real de la resta\n",
    "        I3=self.I-C.I # I3 es el imaginario de la resta\n",
    "        return R3,I3\n",
    "    def multiplicacion(self, C): # Método\n",
    "        R3=self.R*C.R-self.I*C.I # R3 es el real de la multiplicación\n",
    "        I3=self.R*C.I+self.I*C.R # I3 es el imaginario de la multiplicación\n",
    "        return R3,I3\n",
    "    def conjugado(self): # Método\n",
    "        R3=self.R # R3 es el real del conjugado\n",
    "        I3=self.I*(-1) # I3 es el imaginario del conjugado\n",
    "        return R3,I3\n",
    "    def igualComplejos(self, C) -> bool: # Método\n",
    "        if self.R==C.R and self.I==C.I:\n",
    "            return True\n",
    "        else:\n",
    "            return False\n",
    "    def valorAbsoluto(self):\n",
    "        R3=self.R**2\n",
    "        I3=self.I**2\n",
    "        return (R3+I3)**(1/2)\n",
    "    \n",
    "    def __str__(self):\n",
    "        return str(self.R) + \"+\" + str(self.I) + \"i\"\n",
    "    \n",
    "class comprobacion:\n",
    "    def __init__(self, C1, C2):\n",
    "        self.C1 = C1\n",
    "        self.C2 = C2\n",
    "    def comprobarSuma(self):\n",
    "        # Darle el valor 0 al real de C1 y el valor 0 al imaginario de C2\n",
    "        C1 = Complejos(0, self.C1.imaginario())\n",
    "        C2 = Complejos(self.C2.real(), 0)\n",
    "        \n",
    "        R3,I3=C1.suma(C2)\n",
    "        if(R3==C2.real() and I3==C1.imaginario()):\n",
    "            print(\"Se cumple el axioma\")\n",
    "        else:\n",
    "            print(\"No se cumple el axioma\")\n",
    "            \n",
    "\n",
    "            \n",
    "    \n",
    "\n",
    "if __name__ == \"__main__\":\n",
    "\n",
    "    Real = int(input(\"Ingrese el valor real del primer número complejo: \"))\n",
    "    Imaginario = int(input(\"Ingrese el valor imaginario del primer número complejo: \"))\n",
    "    C1 = Complejos(Real, Imaginario)\n",
    "    print(\"El primer número complejo es: \", C1)\n",
    "    Real = int(input(\"Ingrese el valor real del segundo número complejo: \"))\n",
    "    Imaginario = int(input(\"Ingrese el valor imaginario del segundo número complejo: \"))\n",
    "    C2 = Complejos(Real, Imaginario)\n",
    "    print(\"El segundo número complejo es: \", C2)\n",
    "    \n",
    "    print(\"===========================================\")\n",
    "    print(\"Suma: \", C1.suma(C2))\n",
    "    print(\"Resta: \", C1.resta(C2))\n",
    "    print(\"Multiplicación: \", C1.multiplicacion(C2))\n",
    "    print(\"===========================================\")\n",
    "    \n",
    "    # Comprobación de la suma\n",
    "    print(\"Comprobación de la suma\")\n",
    "\n",
    "    C3 = comprobacion(C1, C2)\n",
    "    C3.comprobarSuma()\n",
    "    "
   ]
  },
  {
   "cell_type": "markdown",
   "metadata": {},
   "source": [
    "### **Explicación de la solución orientada a objetos**\n",
    "\n",
    "1. **Crear**: entero, entero -> ``Complejos``\n",
    "\n",
    "    - **Sintaxis:** ``Complejos(entero, entero)``\n",
    "\n",
    "    - **Semántica:** ``Complejos(entero, entero)`` es un objeto de tipo ``Complejos`` que representa un número complejo con parte real ``entero`` y parte imaginaria ``entero``.\n",
    "   \n",
    "\n"
   ]
  },
  {
   "cell_type": "markdown",
   "metadata": {},
   "source": [
    "2. **Real**: Complejos -> ``entero``\n",
    "        \n",
    "    - **Sintaxis:** ``Complejos.Real(Complejos)``\n",
    "    \n",
    "    - **Semántica:** ``Complejos.Real(Complejos)`` es un objeto de tipo ``entero`` que representa la parte real del número complejo ``Complejos``."
   ]
  },
  {
   "cell_type": "markdown",
   "metadata": {},
   "source": [
    "3. **Imaginario**: Complejos -> ``entero``\n",
    "            \n",
    "    - **Sintaxis:** ``Complejos.Imaginario(Complejos)``\n",
    "        \n",
    "    - **Semántica:** ``Complejos.Imaginario(Complejos)`` es un objeto de tipo ``entero`` que representa la parte imaginaria del número complejo ``Complejos``. "
   ]
  },
  {
   "cell_type": "markdown",
   "metadata": {},
   "source": [
    "4. **Suma**: Complejos, Complejos -> ``Complejos``\n",
    "                \n",
    "    - **Sintaxis:** ``Complejos.Suma(Complejos, Complejos)``\n",
    "\n",
    "    - **Semántica:** ``Complejos.Suma(Complejos, Complejos)`` es un objeto de tipo ``Complejos`` que representa la suma de los números complejos ``Complejos`` y ``Complejos``.\n",
    "\n",
    "    - **Proceso:** `` Complejos.Suma(Complejos, Complejos)`` es un objeto de tipo ``Complejos`` que representa la suma de los números complejos ``Complejos`` y ``Complejos``. La parte real del número complejo resultante es la suma de las partes reales de los números complejos ``Complejos`` y ``Complejos``. La parte imaginaria del número complejo resultante es la suma de las partes imaginarias de los números complejos ``Complejos`` y ``Complejos``.\n",
    "\n",
    "        - ``R3=self.R+C.R`` -> Es la suma de las partes reales de los números complejos ``self.R`` y ``C``.\n",
    "        - ``I3=self.I+C.I`` -> Es la suma de las partes imaginarias de los números complejos ``self.I`` y ``C``.\n",
    "        - return Complejos(R3,I3) -> Es el número complejo que representa la suma de los números complejos ``self`` y ``C``.\n",
    "\n",
    "    - **Ejemplo:**\n",
    "\n",
    "        - ``Complejos.Suma(Complejos(1,2),Complejos(3,4))`` -> ``Complejos(4,6)``\n",
    "        - ``Complejos.Suma(Complejos(1,2),Complejos(3,4)).Real()`` -> ``4``\n",
    "        - ``Complejos.Suma(Complejos(1,2),Complejos(3,4)).Imaginario()`` -> ``6``."
   ]
  },
  {
   "cell_type": "markdown",
   "metadata": {},
   "source": [
    "5. **Resta**: Complejos, Complejos -> ``Complejos``\n",
    "                        \n",
    "    - **Sintaxis:** ``Complejos.Resta(Complejos, Complejos)``\n",
    "    \n",
    "    - **Semántica:** ``Complejos.Resta(Complejos, Complejos)`` es un objeto de tipo ``Complejos`` que representa la resta de los números complejos ``Complejos`` y ``Complejos``.\n",
    "    \n",
    "    - **Proceso:** `` Complejos.Resta(Complejos, Complejos)`` es un objeto de tipo ``Complejos`` que representa la resta de los números complejos ``Complejos`` y ``Complejos``. La parte real del número complejo resultante es la resta de las partes reales de los números complejos ``Complejos`` y ``Complejos``. La parte imaginaria del número complejo resultante es la resta de las partes imaginarias de los números complejos ``Complejos`` y ``Complejos``.\n",
    "    \n",
    "        - ``R3=self.R-C.R`` -> Es la resta de las partes reales de los números complejos ``self.R`` y ``C``.\n",
    "        - ``I3=self.I-C.I`` -> Es la resta de las partes imaginarias de los números complejos ``self.I`` y ``C``.\n",
    "        - return Complejos(R3,I3) -> Es el número complejo que representa la resta de los números complejos ``self`` y ``C``.\n",
    "    \n",
    "    - **Ejemplo:**\n",
    "    \n",
    "        - ``Complejos.Resta(Complejos(1,2),Complejos(3,4))`` -> ``Complejos(-2,-2)``\n",
    "        - ``Complejos.Resta(Complejos(1,2),Complejos(3,4)).Real()`` -> ``-2``\n",
    "        - ``Complejos.Resta(Complejos(1,2),Complejos(3,4)).Imaginario()`` -> ``-2``     "
   ]
  },
  {
   "cell_type": "markdown",
   "metadata": {},
   "source": [
    "6. **Multiplicación**: Complejos, Complejos -> ``Complejos``\n",
    "                            \n",
    "    - **Sintaxis:** ``Complejos.Multiplicacion(Complejos, Complejos)``\n",
    "    \n",
    "    - **Semántica:** ``Complejos.Multiplicacion(Complejos, Complejos)`` es un objeto de tipo ``Complejos`` que representa la multiplicación de los números complejos ``Complejos`` y ``Complejos``.\n",
    "    \n",
    "    - **Proceso:** `` Complejos.Multiplicacion(Complejos, Complejos)`` es un objeto de tipo ``Complejos`` que representa la multiplicación de los números complejos ``Complejos`` y ``Complejos``. La parte real del número complejo resultante es la multiplicación de las partes reales de los números complejos ``Complejos`` y ``Complejos``. La parte imaginaria del número complejo resultante es la multiplicación de las partes imaginarias de los números complejos ``Complejos`` y ``Complejos``.\n",
    "    \n",
    "        - ``R3=self.R*C.R-self.I*C.I`` -> Es la multiplicación entre la parte real menos la parte imaginaria.\n",
    "        - ``I3=self.R*C.I+self.I*C.R`` -> Es la multiplicación entre la parte real más la parte imaginaria.\n",
    "        - ``return Complejos(R3,I3)`` -> Es el número complejo que representa la multiplicación de los números complejos ``self`` y ``C``.\n",
    "\n",
    "        **Cumple el axioma (a+bi)(c+di) = (ac-bd) + (ad+bc)i**\n",
    "    \n",
    "    - **Ejemplo:**\n",
    "    \n",
    "        - ``Complejos.Multiplicacion(Complejos(1,2),Complejos(3,4))`` -> ``Complejos(-5,10)``\n",
    "        - ``Complejos.Multiplicacion(Complejos(1,2),Complejos(3,4)).Real()`` -> ``-5``\n",
    "        - ``Complejos.Multiplicacion(Complejos(1,2),Complejos(3,4)).Imaginario()`` -> ``10``"
   ]
  },
  {
   "cell_type": "markdown",
   "metadata": {},
   "source": [
    "7. **Conjugado**: Complejos -> ``Complejos``\n",
    "                                \n",
    "    - **Sintaxis:** ``Complejos.Conjugado(Complejos)``\n",
    "    \n",
    "    - **Semántica:** ``Complejos.Conjugado(Complejos)`` es un objeto de tipo ``Complejos`` que representa el conjugado del número complejo ``Complejos``.\n",
    "    \n",
    "    - **Proceso:** `` Complejos.Conjugado(Complejos)`` es un objeto de tipo ``Complejos`` que representa el conjugado del número complejo ``Complejos``. La parte real del número complejo resultante es la parte real del número complejo ``Complejos``. La parte imaginaria del número complejo resultante es la parte imaginaria del número complejo ``Complejos`` multiplicada por -1.\n",
    "    \n",
    "        - ``R3=self.R`` -> Es la parte real del número complejo ``self``.\n",
    "        - ``I3=self.I*(-1)`` -> Es la parte imaginaria del número complejo ``self`` multiplicada por -1.\n",
    "        - return Complejos(R3,I3) -> Es el número complejo que representa el conjugado del número complejo ``self``.\n",
    "    \n",
    "    - **Ejemplo:**\n",
    "    \n",
    "        - ``Complejos.Conjugado(Complejos(1,2))`` -> ``Complejos(1,-2)``\n",
    "        - ``Complejos.Conjugado(Complejos(1,2)).Real()`` -> ``1``\n",
    "        - ``Complejos.Conjugado(Complejos(1,2)).Imaginario()`` -> ``-2``"
   ]
  }
 ],
 "metadata": {
  "kernelspec": {
   "display_name": "Python",
   "language": "python",
   "name": "python3"
  },
  "language_info": {
   "codemirror_mode": {
    "name": "ipython",
    "version": 3
   },
   "file_extension": ".py",
   "mimetype": "text/x-python",
   "name": "python",
   "nbconvert_exporter": "python",
   "pygments_lexer": "ipython3",
   "version": "3.10.5"
  },
  "orig_nbformat": 4,
  "vscode": {
   "interpreter": {
    "hash": "c295f8dd6566d12c5d40a4c94f9ee43f4fd6a6f29ca7e565402a4e7949b8db73"
   }
  }
 },
 "nbformat": 4,
 "nbformat_minor": 2
}
